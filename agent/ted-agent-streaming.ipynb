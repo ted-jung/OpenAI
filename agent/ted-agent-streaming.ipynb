{
 "cells": [
  {
   "cell_type": "markdown",
   "id": "addcef97",
   "metadata": {},
   "source": [
    "=============================================================================\n",
    "Title: OpenAI Agents Streaming Example with function_tool\n",
    "Created: 13, Jun, 2025\n",
    "Author: Ted, Jung \n",
    "Description:\n",
    "   A streaming event from an agent\n",
    "   https://openai.github.io/openai-agents-python/ref/stream_events/#agents.stream_events.RunItemStreamEvent.item\n",
    "============================================================================="
   ]
  },
  {
   "cell_type": "code",
   "execution_count": null,
   "id": "6c5f7819",
   "metadata": {},
   "outputs": [
    {
     "name": "stdout",
     "output_type": "stream",
     "text": [
      "=== Run starting ===\n",
      "Agent updated: Joker\n"
     ]
    }
   ],
   "source": [
    "from openai.types.responses import ResponseTextDeltaEvent\n",
    "\n",
    "from agents import Agent, Runner, function_tool, RunContextWrapper, ItemHelpers"
   ]
  },
  {
   "cell_type": "code",
   "execution_count": null,
   "id": "639f89ce",
   "metadata": {},
   "outputs": [
    {
     "name": "stdout",
     "output_type": "stream",
     "text": [
      "Sure! Here are five jokes for you:\n",
      "\n",
      "1. Why don’t skeletons fight each other?  \n",
      "Because they don’t have the guts!\n",
      "\n",
      "2. Why did the scarecrow win an award?  \n",
      "Because he was outstanding in his field!\n",
      "\n",
      "3. What do you call fake spaghetti?  \n",
      "An impasta!\n",
      "\n",
      "4. Why did the math book look sad?  \n",
      "Because it had too many problems.\n",
      "\n",
      "5. Why can't you trust atoms?  \n",
      "Because they make up everything!  \n",
      "\n",
      "Hope these made you smile!"
     ]
    }
   ],
   "source": [
    "ted_agent = Agent(\n",
    "    name=\"Joker\",\n",
    "    model=\"gpt-4.1-nano\",\n",
    "    instructions=\"You a helpful assistant.\"\n",
    ")\n",
    "\n",
    "result = Runner.run_streamed(ted_agent, input=\"Please tell me 5 jokes.\")\n",
    "async for event in result.stream_events():\n",
    "    if event.type == \"raw_response_event\" and isinstance(event.data, ResponseTextDeltaEvent):\n",
    "        print(event.data.delta, end=\"\", flush=True)\n"
   ]
  },
  {
   "cell_type": "code",
   "execution_count": 13,
   "id": "f21b9eb5",
   "metadata": {},
   "outputs": [
    {
     "name": "stdout",
     "output_type": "stream",
     "text": [
      "=== Run starting ===\n",
      "Agent updated: Joker\n",
      "-- Tool was called\n",
      "-- Tool was called\n",
      "-- Tool output: 9\n",
      "-- Tool output: 7\n",
      "-- Message output:\n",
      " I'll tell you 9 jokes! Here they come:\n",
      "\n",
      "1. Why don't scientists trust atoms? Because they make up everything!\n",
      "2. Why did the scarecrow win an award? Because he was outstanding in his field!\n",
      "3. What do you call fake spaghetti? An impasta!\n",
      "4. Why do bees have sticky hair? Because they use honeycombs!\n",
      "5. What do you call a pile of cats? A meowtain!\n",
      "6. Why did the bicycle fall over? Because it was two-tired!\n",
      "7. What do you call cheese that isn't yours? Nacho cheese!\n",
      "8. Why did the tomato turn red? Because it saw the salad dressing!\n",
      "9. What did one ocean say to the other ocean? Nothing, they just waved!\n",
      "\n",
      "Would you like to hear more jokes or anything else?\n",
      " === Run complete ===\n"
     ]
    }
   ],
   "source": [
    "import random\n",
    "\n",
    "@function_tool\n",
    "def how_many_jokes() -> int:\n",
    "    # print(\"How many jokes do you want to hear?\")\n",
    "    return random.randint(1, 10)\n",
    "\n",
    "    \n",
    "ted_agent = Agent(\n",
    "    name=\"Joker\",\n",
    "    model=\"gpt-4.1-nano\",\n",
    "    instructions=\"First call the 'how_many_jokes', then tell that many jokes.\",\n",
    "    tools=[how_many_jokes],\n",
    ")\n",
    "result = Runner.run_streamed(ted_agent, input=\"Hello\")\n",
    "\n",
    "print(\"=== Run starting ===\")\n",
    "\n",
    "async for event in result.stream_events():\n",
    "    # We'll ignore the raw responses event deltas\n",
    "    if event.type == \"raw_response_event\":\n",
    "        continue\n",
    "    # When the agent updates, print that\n",
    "    elif event.type == \"agent_updated_stream_event\":\n",
    "        print(f\"Agent updated: {event.new_agent.name}\")\n",
    "        continue\n",
    "    # When items are generated, print them\n",
    "    elif event.type == \"run_item_stream_event\":\n",
    "        if event.item.type == \"tool_call_item\":\n",
    "            print(\"-- Tool was called\")\n",
    "        elif event.item.type == \"tool_call_output_item\":\n",
    "            print(f\"-- Tool output: {event.item.output}\")\n",
    "        elif event.item.type == \"message_output_item\":\n",
    "            print(f\"-- Message output:\\n {ItemHelpers.text_message_output(event.item)}\")\n",
    "        else:\n",
    "            pass  # Ignore other event types\n",
    "\n",
    "print(\" === Run complete ===\")"
   ]
  }
 ],
 "metadata": {
  "kernelspec": {
   "display_name": "Python 3",
   "language": "python",
   "name": "python3"
  },
  "language_info": {
   "codemirror_mode": {
    "name": "ipython",
    "version": 3
   },
   "file_extension": ".py",
   "mimetype": "text/x-python",
   "name": "python",
   "nbconvert_exporter": "python",
   "pygments_lexer": "ipython3",
   "version": "3.12.8"
  }
 },
 "nbformat": 4,
 "nbformat_minor": 5
}
