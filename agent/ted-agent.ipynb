{
 "cells": [
  {
   "cell_type": "code",
   "execution_count": null,
   "id": "faca50b5",
   "metadata": {},
   "outputs": [],
   "source": [
    "import os\n",
    "from dotenv import load_dotenv\n",
    "\n",
    "load_dotenv()\n",
    "\n",
    "api_key = os.environ.get(\"OPENAI_API_KEY\")\n",
    "\n",
    "if not api_key:\n",
    "    raise ValueError(\"OPENAI_API_KEy is not set ion the environment variables.\")"
   ]
  },
  {
   "cell_type": "code",
   "execution_count": null,
   "id": "18463006",
   "metadata": {},
   "outputs": [
    {
     "name": "stdout",
     "output_type": "stream",
     "text": [
      "Note: you may need to restart the kernel to use updated packages.\n"
     ]
    }
   ],
   "source": [
    "%pip install openai-agents python-dotenv -qU"
   ]
  },
  {
   "cell_type": "code",
   "execution_count": null,
   "id": "700150bb",
   "metadata": {},
   "outputs": [
    {
     "data": {
      "text/plain": [
       "\"HELLO! I'M DOING WELL, THANK YOU. HOW CAN I HELP YOU TODAY?\""
      ]
     },
     "execution_count": 5,
     "metadata": {},
     "output_type": "execute_result"
    }
   ],
   "source": [
    "from agents import Agent, Runner\n",
    "\n",
    "agent = Agent(\n",
    "    name=\"Ted Agent\",\n",
    "    instructions=\"You are a helpful assistant. Respond on in all caps.\",\n",
    "    model=\"gpt-4.1-nano\"\n",
    ")\n",
    "\n",
    "result = await Runner.run(agent, \"Hello, how are you?\")\n",
    "result.final_output"
   ]
  },
  {
   "cell_type": "code",
   "execution_count": null,
   "id": "4359371e",
   "metadata": {},
   "outputs": [],
   "source": [
    "from pydantic import BaseModel\n",
    "\n",
    "class Recipe(BaseModel):\n",
    "    title: str\n",
    "    ingredients: list[str]\n",
    "    instrunctions: str\n",
    "    cooking_time: int\n",
    "    servings: int"
   ]
  },
  {
   "cell_type": "code",
   "execution_count": null,
   "id": "785ce8a9",
   "metadata": {},
   "outputs": [
    {
     "data": {
      "text/plain": [
       "Recipe(title='Italian Pizza', ingredients=['2 1/4 cups all-purpose flour', '1 packet (2 1/4 teaspoons) active dry yeast', '1 teaspoon sugar', '1 teaspoon salt', '3/4 cup warm water (110°F)', '2 tablespoons olive oil', '1/2 cup pizza sauce', '2 cups shredded mozzarella cheese', 'Toppings of choice (pepperoni, vegetables, etc.)'], instrunctions='In a small bowl, dissolve yeast and sugar in warm water and let sit for 5 minutes until frothy. In a large bowl, combine flour and salt. Add the yeast mixture and olive oil to the flour mixture and knead until smooth and elastic, about 8-10 minutes. Cover the dough and let rise in a warm place for about 1 hour, or until doubled in size. Preheat oven to 475°F (245°C). Punch down the dough and roll it out on a floured surface to your desired thickness. Transfer to a pizza baking sheet or stone. Spread pizza sauce over the dough, then top with shredded mozzarella and your chosen toppings. Bake in the preheated oven for 12-15 minutes, or until the crust is golden and cheese bubbly. Remove from oven, slice, and serve hot.', cooking_time=20, servings=4)"
      ]
     },
     "execution_count": 7,
     "metadata": {},
     "output_type": "execute_result"
    }
   ],
   "source": [
    "recipe_agent = Agent(\n",
    "    name=\"Recipe Agent\",\n",
    "    model=\"gpt-4.1-nano\",\n",
    "    instructions=\"your are an expert chef for creating recipes. You will be given the name of a food and your job \"\n",
    "    \" is to create that as an actual detailed recepie. The cooking time should be in minutes.\",\n",
    "    output_type=Recipe\n",
    ")\n",
    "\n",
    "response = await Runner.run(recipe_agent, \"Italian pizza\")\n",
    "response.final_output"
   ]
  },
  {
   "cell_type": "code",
   "execution_count": null,
   "id": "5ed93f1e",
   "metadata": {},
   "outputs": [],
   "source": []
  }
 ],
 "metadata": {
  "kernelspec": {
   "display_name": "Python 3",
   "language": "python",
   "name": "python3"
  },
  "language_info": {
   "codemirror_mode": {
    "name": "ipython",
    "version": 3
   },
   "file_extension": ".py",
   "mimetype": "text/x-python",
   "name": "python",
   "nbconvert_exporter": "python",
   "pygments_lexer": "ipython3",
   "version": "3.12.8"
  }
 },
 "nbformat": 4,
 "nbformat_minor": 5
}
