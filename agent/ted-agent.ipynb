{
 "cells": [
  {
   "cell_type": "code",
   "execution_count": 5,
   "id": "faca50b5",
   "metadata": {},
   "outputs": [],
   "source": [
    "import os\n",
    "from dotenv import load_dotenv\n",
    "\n",
    "load_dotenv()\n",
    "\n",
    "api_key = os.environ.get(\"OPENAI_API_KEY\")\n",
    "\n",
    "if not api_key:\n",
    "    raise ValueError(\"OPENAI_API_KEy is not set ion the environment variables.\")"
   ]
  },
  {
   "cell_type": "code",
   "execution_count": null,
   "id": "18463006",
   "metadata": {},
   "outputs": [
    {
     "name": "stdout",
     "output_type": "stream",
     "text": [
      "Note: you may need to restart the kernel to use updated packages.\n"
     ]
    }
   ],
   "source": [
    "%pip install openai-agents python-dotenv -qU"
   ]
  },
  {
   "cell_type": "code",
   "execution_count": null,
   "id": "700150bb",
   "metadata": {},
   "outputs": [
    {
     "data": {
      "text/plain": [
       "\"HELLO! I'M DOING WELL, THANK YOU. HOW CAN I HELP YOU TODAY?\""
      ]
     },
     "execution_count": 5,
     "metadata": {},
     "output_type": "execute_result"
    }
   ],
   "source": [
    "from agents import Agent, Runner\n",
    "\n",
    "agent = Agent(\n",
    "    name=\"Ted Agent\",\n",
    "    instructions=\"You are a helpful assistant. Respond on in all caps.\",\n",
    "    model=\"gpt-4.1-nano\"\n",
    ")\n",
    "\n",
    "result = await Runner.run(agent, \"Hello, how are you?\")\n",
    "result.final_output"
   ]
  },
  {
   "cell_type": "code",
   "execution_count": null,
   "id": "4359371e",
   "metadata": {},
   "outputs": [],
   "source": [
    "from pydantic import BaseModel\n",
    "\n",
    "class Recipe(BaseModel):\n",
    "    title: str\n",
    "    ingredients: list[str]\n",
    "    instrunctions: str\n",
    "    cooking_time: int\n",
    "    servings: int"
   ]
  },
  {
   "cell_type": "code",
   "execution_count": null,
   "id": "785ce8a9",
   "metadata": {},
   "outputs": [
    {
     "data": {
      "text/plain": [
       "Recipe(title='Italian Pizza', ingredients=['2 1/4 cups all-purpose flour', '1 packet (2 1/4 teaspoons) active dry yeast', '1 teaspoon sugar', '1 teaspoon salt', '3/4 cup warm water (110°F)', '2 tablespoons olive oil', '1/2 cup pizza sauce', '2 cups shredded mozzarella cheese', 'Toppings of choice (pepperoni, vegetables, etc.)'], instrunctions='In a small bowl, dissolve yeast and sugar in warm water and let sit for 5 minutes until frothy. In a large bowl, combine flour and salt. Add the yeast mixture and olive oil to the flour mixture and knead until smooth and elastic, about 8-10 minutes. Cover the dough and let rise in a warm place for about 1 hour, or until doubled in size. Preheat oven to 475°F (245°C). Punch down the dough and roll it out on a floured surface to your desired thickness. Transfer to a pizza baking sheet or stone. Spread pizza sauce over the dough, then top with shredded mozzarella and your chosen toppings. Bake in the preheated oven for 12-15 minutes, or until the crust is golden and cheese bubbly. Remove from oven, slice, and serve hot.', cooking_time=20, servings=4)"
      ]
     },
     "execution_count": 7,
     "metadata": {},
     "output_type": "execute_result"
    }
   ],
   "source": [
    "recipe_agent = Agent(\n",
    "    name=\"Recipe Agent\",\n",
    "    model=\"gpt-4.1-nano\",\n",
    "    instructions=\"your are an expert chef for creating recipes. You will be given the name of a food and your job \"\n",
    "    \" is to create that as an actual detailed recepie. The cooking time should be in minutes.\",\n",
    "    output_type=Recipe\n",
    ")\n",
    "\n",
    "response = await Runner.run(recipe_agent, \"Italian pizza\")\n",
    "recipe = response.final_output"
   ]
  },
  {
   "cell_type": "markdown",
   "id": "95d186e4",
   "metadata": {},
   "source": [
    "## Tool Calling (Python code)\n",
    "\n",
    "tool calling is a way to extend the capabilities of an LLM by allowing it to call external tools or APIs.\n",
    "this can be useful for tasks that require access to external resources."
   ]
  },
  {
   "cell_type": "code",
   "execution_count": 4,
   "id": "5ed93f1e",
   "metadata": {},
   "outputs": [
    {
     "name": "stdout",
     "output_type": "stream",
     "text": [
      "Getting weather for Seoul\n",
      "Getting remperature for Seoul\n"
     ]
    },
    {
     "data": {
      "text/plain": [
       "'The weather in Seoul is sunny, and the temperature is 70 degrees.'"
      ]
     },
     "execution_count": 4,
     "metadata": {},
     "output_type": "execute_result"
    }
   ],
   "source": [
    "from json import tool\n",
    "from agents import Agent, Runner, function_tool\n",
    "\n",
    "@ function_tool\n",
    "def get_weather(city: str) -> str:\n",
    "    print(f\"Getting weather for {city}\")\n",
    "    return \"synny\"\n",
    "\n",
    "\n",
    "@function_tool\n",
    "def get_temperature(city: str) -> str:\n",
    "    print(f\"Getting remperature for {city}\")\n",
    "    return \"70 degrees\"\n",
    "\n",
    "\n",
    "weather_agent = Agent(\n",
    "    name=\"Weather Agent\",\n",
    "    model=\"gpt-4.1-nano\",\n",
    "    instructions=\"you are a weather forecaster. You are given a city and you need to tell the weather and temperature for that city.\",\n",
    "    tools=[get_weather, get_temperature]\n",
    ")\n",
    "\n",
    "\n",
    "result = await Runner.run(weather_agent, \"What is the weather and temperature in Seoul?\")\n",
    "result.final_output"
   ]
  },
  {
   "cell_type": "markdown",
   "id": "b7f8af57",
   "metadata": {},
   "source": [
    "## built-in function\n",
    "WebSerchTool, cost according to context size for searching\n",
    "\n",
    "<info> duck.go, firecrawl"
   ]
  },
  {
   "cell_type": "code",
   "execution_count": 7,
   "id": "cd20a3d9",
   "metadata": {},
   "outputs": [
    {
     "name": "stdout",
     "output_type": "stream",
     "text": [
      "Here is a summary of recent developments in South Korean politics:\n",
      "\n",
      "**Stock Market Reforms and Economic Measures**\n",
      "\n",
      "- **Corporate Governance Reforms**: President Lee Jae-myung has initiated significant reforms aimed at improving corporate governance and addressing the \"Korea Discount,\" where South Korean companies are undervalued due to weak shareholder protections. Proposed measures include imposing fiduciary duties to shareholders, enhancing minority shareholder rights, and cracking down on treasury stock practices. These reforms aim to boost the domestic stock market's appeal and align valuations with emerging market or Japanese standards. ([ft.com](https://www.ft.com/content/5ee12c61-b561-4c36-9c16-77a397adda4f?utm_source=openai))\n",
      "\n",
      "- **Tax Incentives for Dividends**: To encourage higher dividend payouts, President Lee announced plans to reform the country's tax system. The proposed changes aim to make the domestic stock market more attractive to investors. ([reuters.com](https://www.reuters.com/world/asia-pacific/south-korea-revamp-tax-scheme-boost-dividends-part-stock-market-reform-2025-06-11/?utm_source=openai))\n",
      "\n",
      "**Diplomatic Relations**\n",
      "\n",
      "- **North Korea**: On June 11, 2025, South Korea ceased its anti-North Korea loudspeaker broadcasts along the border, marking a significant diplomatic shift by President Lee. This move is intended to ease tensions and restore trust between the two nations. ([apnews.com](https://apnews.com/article/2ba545996b3daf1a9f81e23685792c11?utm_source=openai))\n",
      "\n",
      "- **China**: President Lee and Chinese President Xi Jinping pledged to deepen economic and security cooperation during their first phone conversation since Lee assumed office. Both leaders emphasized the importance of mutual respect and collaboration to ensure stable bilateral relations. ([reuters.com](https://www.reuters.com/en/south-korean-president-lee-speak-chinas-xi-tuesday-ytn-tv-reports-2025-06-10/?utm_source=openai))\n",
      "\n",
      "**Legal and Political Proceedings**\n",
      "\n",
      "- **Investigations into Former President Yoon**: The National Assembly has approved legislation to initiate broad investigations into former President Yoon Suk Yeol. These investigations focus on alleged unconstitutional actions, including the declaration of martial law in December 2024, corruption allegations involving his wife, and a reported cover-up of a marine's drowning death. ([apnews.com](https://apnews.com/article/825efa12c571b2f4d6a72edcd27d3aa4?utm_source=openai))\n",
      "\n",
      "- **President Lee's Legal Proceedings**: A Seoul court has indefinitely postponed the hearing of President Lee Jae-myung's trial for alleged election law violations during his 2022 presidential campaign. The postponement is based on the constitutional provision that a sitting president cannot be subject to criminal prosecution while in office. ([reuters.com](https://www.reuters.com/world/asia-pacific/south-korea-president-lees-election-law-violation-hearing-postponed-indefinitely-2025-06-09/?utm_source=openai))\n",
      "\n",
      "\n",
      "## Recent Developments in South Korean Politics:\n",
      "- [South Korean investors bet new president can end market's long-standing 'discount'](https://www.ft.com/content/5ee12c61-b561-4c36-9c16-77a397adda4f?utm_source=openai)\n",
      "- [South Korea halts propaganda broadcasts along border with rival North in a move to ease tensions](https://apnews.com/article/2ba545996b3daf1a9f81e23685792c11?utm_source=openai)\n",
      "- [South Korean President Lee, Xi pledge closer economic, security cooperation](https://www.reuters.com/en/south-korean-president-lee-speak-chinas-xi-tuesday-ytn-tv-reports-2025-06-10/?utm_source=openai) \n"
     ]
    }
   ],
   "source": [
    "from agents import WebSearchTool\n",
    "\n",
    "news_agent = Agent(\n",
    "    name=\"News Agent\",\n",
    "    model=\"gpt-4o-mini\",\n",
    "    instructions=\"You are a news agent. You will be given a topic and you need to search the web for the latest news about Southe Korea politics.\",\n",
    "    tools=[WebSearchTool()],\n",
    ")\n",
    "\n",
    "result = await Runner.run(news_agent, \"find news\")\n",
    "print(result.final_output)"
   ]
  },
  {
   "cell_type": "markdown",
   "id": "b3a579c0",
   "metadata": {},
   "source": [
    "## Agent with Input"
   ]
  },
  {
   "cell_type": "code",
   "execution_count": 9,
   "id": "327cfb41",
   "metadata": {},
   "outputs": [
    {
     "name": "stdout",
     "output_type": "stream",
     "text": [
      "\n",
      "Result:\n",
      "Hello! How can I assist you today?\n",
      "\n",
      "==================================================\n",
      "\n"
     ]
    }
   ],
   "source": [
    "from dotenv import load_dotenv\n",
    "import os\n",
    "from agents import Agent, Runner, WebSearchTool\n",
    "\n",
    "load_dotenv()\n",
    "\n",
    "api_key = os.environ.get(\"OPENAI_API_KEY\")\n",
    "\n",
    "if not api_key:\n",
    "    raise ValueError(\"OPENAI_API_KEY is not set in the environment variables.\")\n",
    "\n",
    "\n",
    "ted_agent = Agent(\n",
    "    name=\"Websearch Agent\",\n",
    "    model=\"gpt-4o-mini\",\n",
    "    instructions=\"you a web search agent, you will be given a topic and you need to search the web for the latest news about that topic.\" +\n",
    "    \"Compile the information you find into a concise 1 paragraph summary. No markdown, just plain text.\",\n",
    "    tools=[WebSearchTool()],\n",
    ")\n",
    "while True:\n",
    "    query = input(\"Enter a search query (or 'quit' to exit): \")\n",
    "    if query.lower() == \"quit\":\n",
    "        break\n",
    "\n",
    "    result = await Runner.run(ted_agent, input=query)\n",
    "    print(f\"\\nResult:\")\n",
    "    print(result.final_output)\n",
    "    print(\"\\n\" + \"=\" * 50 + \"\\n\")"
   ]
  },
  {
   "cell_type": "markdown",
   "id": "64bfe022",
   "metadata": {},
   "source": [
    "\n",
    "## Handoff"
   ]
  },
  {
   "cell_type": "code",
   "execution_count": null,
   "id": "afc4491d",
   "metadata": {},
   "outputs": [
    {
     "name": "stdout",
     "output_type": "stream",
     "text": [
      "outline='1. Using list comprehensions\\n2. Using the `map` function\\n3. Using a `for` loop with list addition in a single line' tutorial='## Building a list of integers with a single line in Python\\n\\nPython provides elegant and concise ways to create lists of integers using single line expressions.\\n\\n### 1. Using list comprehensions\\n\\nList comprehensions are a compact way to process and create lists in Python.\\n\\n```python\\n# Create a list of integers from 0 to 9\\nnumbers = [i for i in range(10)]\\nprint(numbers)  # Output: [0, 1, 2, 3, 4, 5, 6, 7, 8, 9]\\n```\\n\\n### 2. Using the `map` function\\n\\nThe `map` function applies a given function to all items in an iterable.\\n\\n```python\\n# Create list of integers from 0 to 9 using map\\nnumbers = list(map(int, range(10)))\\nprint(numbers)  # Output: [0, 1, 2, 3, 4, 5, 6, 7, 8, 9]\\n```\\n\\n### 3. Using a `for` loop with list addition in one line\\n\\nYou can also execute a `for` loop in a single line using the `[]` syntax.\\n\\n```python\\n# Create a list of integers from 0 to 9\\nnumbers = [i for i in range(10)]  # Same as list comprehension\\nprint(numbers)\\n```\\n\\nThese methods provide efficient and Pythonic ways to build lists of integers in a single line of code.'\n"
     ]
    }
   ],
   "source": [
    "from pydantic import BaseModel\n",
    "\n",
    "\n",
    "class Tutorial(BaseModel):\n",
    "    outline: str\n",
    "    tutorial: str\n",
    "\n",
    "tutorial_generator = Agent(\n",
    "    name=\"Tutorial Generator\",\n",
    "    handoff_description=\"An outline for a programming tutorial\",\n",
    "    model=\"gpt-4.1-nano\",\n",
    "    instructions=(\"Given a programming topic and an outline, your job is to generate code snippets for each secton of the outline. Format the tutorial in Markdown using a mix of text for explanation and code snippets for examples. Where it makes sense, include comments in teh code snippets to further explain the code.\"),\n",
    "    output_type=Tutorial\n",
    ")\n",
    "\n",
    "outline_builder = Agent(\n",
    "    name=\"Outline Builder\",\n",
    "    model=\"gpt-4.1-nano\",\n",
    "    instructions=\"Given a particular programming topic, your job is to help come up with a tutorial. You will do that by crating an outline.After making the outline, hand it to the totorial generator agent.\",\n",
    "    handoffs=[tutorial_generator],\n",
    ")\n",
    "\n",
    "tutorial_response = await Runner.run(outline_builder, \"Loops to build list of integer with single line of code in Python\")\n",
    "print(tutorial_response.final_output)\n"
   ]
  },
  {
   "cell_type": "markdown",
   "id": "ddb37b34",
   "metadata": {},
   "source": [
    "## Agent use case1 (Root Agent and Child Agents)"
   ]
  },
  {
   "cell_type": "code",
   "execution_count": 22,
   "id": "1670761a",
   "metadata": {},
   "outputs": [],
   "source": [
    "from agents import Agent, Runner, handoff, RunContextWrapper\n",
    "\n",
    "history_tutor_agent = Agent(\n",
    "    name=\"History Tutor\",\n",
    "    model=\"gpt-4.1-nano\",\n",
    "    handoff_description=\"Specialist agent for historical questions\",\n",
    "    instructions=\"You provide assistance with historical queries. Explain import events and context clearly.\"\n",
    ")\n",
    "\n",
    "math_tutor_agent = Agent(\n",
    "    name=\"Math Tutor\",\n",
    "    model=\"gpt-4.1-nano\",\n",
    "    handoff_description=\"Specialist agent for mathematical problems\",\n",
    "    instructions=\"You provide assistance with math queries. Explain your reasoning at each step and include examples.\"\n",
    "\n",
    ")\n",
    "\n",
    "def ted_math_handoff(ctx: RunContextWrapper[None]):\n",
    "    print(\"Handing off to Math Tutor Agent\")\n",
    "\n",
    "def ted_history_handoff(ctx: RunContextWrapper[None]):\n",
    "    print(\"Handing off to History Tutor Agent\")\n",
    "\n",
    "triage_agent = Agent(\n",
    "    name=\"Trige Agent\",\n",
    "    model=\"gpt-4.1-nano\",\n",
    "    instructions=\"You determine which agent to hand off to based on the user's questions.\" +\n",
    "    \"If neither agent is suitable, provide a general response.\",\n",
    "    handoffs=[\n",
    "        handoff(history_tutor_agent, on_handoff=ted_history_handoff),\n",
    "        handoff( math_tutor_agent, on_handoff=ted_math_handoff)\n",
    "    ]\n",
    "\n",
    ")\n",
    "\n"
   ]
  },
  {
   "cell_type": "code",
   "execution_count": 26,
   "id": "0d4e9eb8",
   "metadata": {},
   "outputs": [
    {
     "name": "stdout",
     "output_type": "stream",
     "text": [
      "Handing off to Math Tutor Agent\n",
      "To add two numbers, you simply combine their values. \n",
      "\n",
      "Let's add 2 and 5:\n",
      "\n",
      "2 + 5 = 7\n",
      "\n",
      "So, the sum of 2 and 5 is **7**.\n"
     ]
    }
   ],
   "source": [
    "result = await Runner.run(triage_agent, \"How do I add two numbers(2, 5) ?\")\n",
    "print(result.final_output)"
   ]
  },
  {
   "cell_type": "code",
   "execution_count": 27,
   "id": "558417ef",
   "metadata": {},
   "outputs": [
    {
     "name": "stdout",
     "output_type": "stream",
     "text": [
      "Handing off to History Tutor Agent\n",
      "World War II began as a result of a series of complex and interrelated events leading up to 1939. Here are some of the key events and factors that contributed to its outbreak:\n",
      "\n",
      "1. Treaty of Versailles (1919): The punitive peace treaty ending World War I imposed heavy reparations and territorial losses on Germany. This created economic hardship and national resentment, fueling nationalist sentiments.\n",
      "\n",
      "2. Rise of Fascism and Militarism: In the 1930s, fascist regimes rose to power in Germany under Adolf Hitler, Italy under Benito Mussolini, and militarist factions in Japan. These regimes pursued aggressive expansionist policies.\n",
      "\n",
      "3. Germany’s Rearmament and Anschluss: Germany violated the Treaty of Versailles by rearming and unifying with Austria in 1938 (Anschluss), demonstrating its willingness to defy international agreements.\n",
      "\n",
      "4. Munich Agreement and Appeasement: In 1938, Britain and France adopted a policy of appeasement, allowing Germany to annex parts of Czechoslovakia (Sudetenland) to avoid war, which emboldened Hitler.\n",
      "\n",
      "5. Invasion of Poland: The immediate trigger was Germany’s invasion of Poland on September 1, 1939. This event prompted Britain and France to declare war on Germany on September 3, 1939, marking the start of World War II.\n",
      "\n",
      "In summary, a combination of unresolved issues from WWI, aggressive expansion by totalitarian regimes, failure of appeasement policies, and the invasion of Poland all led to the outbreak of World War II.\n"
     ]
    }
   ],
   "source": [
    "result = await Runner.run(triage_agent, \"How did World War2 start? Explain the key events leading up to it.\")\n",
    "print(result.final_output)"
   ]
  },
  {
   "cell_type": "markdown",
   "id": "b45072a5",
   "metadata": {},
   "source": [
    "## Agent - use case2"
   ]
  },
  {
   "cell_type": "code",
   "execution_count": null,
   "id": "c4c5c667",
   "metadata": {},
   "outputs": [],
   "source": [
    "from agents import Agent, function_tool, RunContextWrapper, handoff\n",
    "\n",
    "\n",
    "class ManagerEscalation(BaseModel):\n",
    "    issue: str\n",
    "    why: str\n",
    "\n",
    "# this is an example of create a ticket with a ticketing system when the issues is escalated to a manager agent.\n",
    "@function_tool\n",
    "def create_ticket(issue: str):\n",
    "    print(f\"Creating a ticket for the customer issues: {issue}\")\n",
    "    return \"Ticket created successfully.\"\n",
    "\n",
    "manager_agent = Agent(\n",
    "    name=\"Manager Agent\",\n",
    "    handoff_description=\"Handles escalated issues that require managerial attention\",\n",
    "    instructions=(\"\"\"\n",
    "        You handle escalated customer issues that the initial customer service agent could not resolve.\n",
    "        You will receive the issue and the reason for escalation. If the issue cannot be immediately resolved for the customer, \n",
    "        Create a ticket in the system and inform the customer.\n",
    "        \"\"\"\n",
    "    ),\n",
    "    model=\"gpt-4.1-nano\",\n",
    "    tools=[create_ticket]\n",
    ")\n",
    "\n",
    "# This is a normal function not a tool\n",
    "# Need to store somewhere like a database or a ticketing system\n",
    "# issue and why are the fields that will be passed to the manager agent when the issue is escalated in a class called ManagerEscalation\n",
    "def ted_manager_handoff(ctx: RunContextWrapper[None], input: ManagerEscalation):\n",
    "    print(\"Escalating to manager agent: \", input.issue)\n",
    "    print(\"Reason for escalation: \\n\\n\", input.why)\n",
    "\n",
    "customer_service_agent = Agent(\n",
    "    name=\"Customer Service Agent\",\n",
    "    model=\"gpt-4.1-nano\",\n",
    "    instructions=(\"\"\"\n",
    "        You assist customers with general inquiries and basic troubleshooting. \n",
    "        If the issue is beyond your scope, escalate it to the Manager Agent along with the reason\n",
    "        Why you can't resolve the issue.\n",
    "    \"\"\"),\n",
    "    handoffs=[\n",
    "        handoff(agent=manager_agent,input_type=ManagerEscalation,on_handoff=ted_manager_handoff)\n",
    "    ]\n",
    ")"
   ]
  },
  {
   "cell_type": "code",
   "execution_count": 35,
   "id": "0220aa17",
   "metadata": {},
   "outputs": [
    {
     "name": "stdout",
     "output_type": "stream",
     "text": [
      "Escalating to manager agent:  Requesting a refund while the website is down.\n",
      "Reason for escalation: \n",
      "\n",
      " Unable to process the refund or verify the request due to website outage.\n",
      "It appears that the website is currently down, which is preventing us from processing your refund at the moment. I will escalate this issue to our manager so they can assist you further.\n"
     ]
    }
   ],
   "source": [
    "result = await Runner.run(customer_service_agent, \"I want a refund, but your system is now working. The website is down.\")\n",
    "print(result.final_output)"
   ]
  },
  {
   "cell_type": "code",
   "execution_count": null,
   "id": "5b9bd212",
   "metadata": {},
   "outputs": [],
   "source": []
  }
 ],
 "metadata": {
  "kernelspec": {
   "display_name": "Python 3",
   "language": "python",
   "name": "python3"
  },
  "language_info": {
   "codemirror_mode": {
    "name": "ipython",
    "version": 3
   },
   "file_extension": ".py",
   "mimetype": "text/x-python",
   "name": "python",
   "nbconvert_exporter": "python",
   "pygments_lexer": "ipython3",
   "version": "3.12.8"
  }
 },
 "nbformat": 4,
 "nbformat_minor": 5
}
