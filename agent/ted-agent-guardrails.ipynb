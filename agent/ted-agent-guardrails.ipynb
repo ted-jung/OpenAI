{
 "cells": [
  {
   "cell_type": "markdown",
   "id": "38bba4c7",
   "metadata": {},
   "source": [
    "### Guardrails\n",
    "\n",
    "Guardrails serve as safety lines for inputs and outputs. \n",
    "They prevent LLM from leading to jailbreak, prompt injections and hallucinations."
   ]
  },
  {
   "cell_type": "code",
   "execution_count": 14,
   "id": "d2ec6f17",
   "metadata": {},
   "outputs": [],
   "source": [
    "from agents import (\n",
    "    Agent, \n",
    "    Runner, \n",
    "    RunContextWrapper, \n",
    "    GuardrailFunctionOutput, \n",
    "    OutputGuardrailTripwireTriggered,\n",
    "    InputGuardrailTripwireTriggered,\n",
    "    input_guardrail,\n",
    "    output_guardrail,\n",
    "    TResponseInputItem, \n",
    ")\n",
    "from pydantic import BaseModel"
   ]
  },
  {
   "cell_type": "code",
   "execution_count": 3,
   "id": "9245e014",
   "metadata": {},
   "outputs": [],
   "source": [
    "class HomeworkCheatDetectionOutput(BaseModel):\n",
    "    attempting_cheat: bool\n",
    "    explanation: str"
   ]
  },
  {
   "cell_type": "code",
   "execution_count": 4,
   "id": "622f0b4f",
   "metadata": {},
   "outputs": [],
   "source": [
    "homework_cheat_guardrail_agent = Agent(\n",
    "    name=\"Homework Cheat Detector\",\n",
    "    instructions=(\n",
    "        \"Determine if the user's query resembles a typical homework assignment or exam question, indicating an attempt to cheat. General questions about concepts are acceptable. \"\n",
    "        \" Cheating: 'Fill in the blank: The capital of France is ____.',\"\n",
    "        \" 'Which of the following best describes photosynthesis? A) Cellular respiration B) Conversion of light energy C) Evaporation D) Fermentation.'\"\n",
    "        \" Not-Cheating: 'What is the capital of France?', 'Explain photosynthesis.'\"\n",
    "    ),\n",
    "    output_type=HomeworkCheatDetectionOutput,\n",
    "    model=\"gpt-4o-mini\"\n",
    ")"
   ]
  },
  {
   "cell_type": "code",
   "execution_count": null,
   "id": "a4269574",
   "metadata": {},
   "outputs": [],
   "source": [
    "\n",
    "@input_guardrail\n",
    "async def cheat_detection_guardrail(\n",
    "        ctx: RunContextWrapper[None], agent: Agent, input: str | list[TResponseInputItem]\n",
    ") -> GuardrailFunctionOutput :\n",
    "    \n",
    "    detection_result = await Runner.run(homework_cheat_guardrail_agent, input)\n",
    "\n",
    "    return GuardrailFunctionOutput(\n",
    "        tripwire_triggered=detection_result.final_output.attempting_cheat,\n",
    "        output_info=detection_result.final_output\n",
    "    )\n",
    "\n",
    "study_helper_agent = Agent(\n",
    "    name=\"Study Helper Agent\",\n",
    "    instructions=\"You assist users in studying by explaining concepts or providing guidance, without directly solving homework or test questions.\",\n",
    "    model=\"gpt-4.1-nano\",\n",
    "    input_guardrails=[cheat_detection_guardrail]\n",
    ")\n",
    "\n",
    "# This should trigger the cheat detection guardrail"
   ]
  },
  {
   "cell_type": "code",
   "execution_count": 6,
   "id": "2626616f",
   "metadata": {},
   "outputs": [
    {
     "name": "stdout",
     "output_type": "stream",
     "text": [
      "Homework cheat guardrail triggered\n",
      "Exception details: Guardrail InputGuardrail triggered tripwire\n"
     ]
    }
   ],
   "source": [
    "# First test: Should trigger the guardrail\n",
    "try:\n",
    "    response = await Runner.run(study_helper_agent, \"Fill in the blank: The process of converting light energy into chemical energy is called ____.\")\n",
    "    print(\"Guardrail didn't trigger\")\n",
    "    print(\"Response: \", response.final_output)\n",
    "\n",
    "except InputGuardrailTripwireTriggered as e:\n",
    "    print(\"Homework cheat guardrail triggered\")\n",
    "    print(\"Exception details:\", str(e))"
   ]
  },
  {
   "cell_type": "code",
   "execution_count": 7,
   "id": "9fed17b9",
   "metadata": {},
   "outputs": [
    {
     "name": "stdout",
     "output_type": "stream",
     "text": [
      "Guardrail didn't trigger\n",
      "Response:  The main causes of the American Civil War were a complex mix of political, economic, social, and moral issues. Here are some of the key factors:\n",
      "\n",
      "1. **Slavery**: The most contentious issue was the institution of slavery, especially its expansion into new territories and states. Southern states relied heavily on slavery for their economy, while Northern states increasingly opposed its expansion.\n",
      "\n",
      "2. **States' Rights**: Southern states championed the idea that states had the right to govern themselves and make decisions—like allowing slavery—without federal interference. This led to conflicts over federal authority versus state sovereignty.\n",
      "\n",
      "3. **Economic and Social Differences**: The North developed an industrial, commerce-based economy, while the South maintained an agrarian economy dependent on slavery and cotton production. These differing economic interests fueled tensions.\n",
      "\n",
      "4. **Expansion and Westward Movement**: The question of whether new territories and states would allow slavery created disputes. The Missouri Compromise (1820) and the Compromise of 1850 were attempts to address these issues, but tensions persisted.\n",
      "\n",
      "5. **Political Conflicts and Failures**: Disputes over the balance of power between free and slave states in Congress, the breakdown of compromise efforts, and the rise of abolitionist movements increased polarization.\n",
      "\n",
      "6. **The Election of Abraham Lincoln (1860)**: Lincoln's election as President, without support from the Southern states, was seen as a threat to the institution of slavery and Southern interests, prompting many states to secede.\n",
      "\n",
      "7. **Secession and Formation of the Confederacy**: Following Lincoln's election, several Southern states seceded from the Union, forming the Confederate States of America, setting the stage for war.\n",
      "\n",
      "In short, the Civil War was primarily fought over the preservation of the Union and the contentious issue of slavery, intertwined with broader questions about states’ rights and political power. Is there a particular aspect you'd like to explore further?\n"
     ]
    }
   ],
   "source": [
    "# This should trigger the cheat detection guardrail\n",
    "try:\n",
    "    response = await Runner.run(study_helper_agent, \"What were the main causes of the American civil war?\")\n",
    "    print(\"Guardrail didn't trigger\")\n",
    "    print(\"Response: \", response.final_output)\n",
    "\n",
    "except InputGuardrailTripwireTriggered as e:\n",
    "    print(\"Homework cheat guardrail triggered\")\n",
    "    print(\"Exception details:\", str(e))"
   ]
  },
  {
   "cell_type": "code",
   "execution_count": 10,
   "id": "b015aed5",
   "metadata": {},
   "outputs": [],
   "source": [
    "class MessageOutput(BaseModel):\n",
    "    response: str\n",
    "\n",
    "@output_guardrail\n",
    "async def forbidden_words_guardrail(ctx: RunContextWrapper, agent: Agent, output: str) -> GuardrailFunctionOutput:\n",
    "    print(f\"Checking output for forbidden phrases: {output}\")\n",
    "\n",
    "    # Funny forbidden phrases to check\n",
    "    forbidden_phrases = [\"fart\", \"booger\", \"silly goose\"]\n",
    "\n",
    "    # Convert output to lowercase for case-insensitive comparison\n",
    "    output_lower = output.lower()\n",
    "\n",
    "    # Check which forbidden phrases are present in the response\n",
    "    found_phrases = [phrase for phrase in forbidden_phrases if phrase in output_lower]\n",
    "    trip_triggered = bool(found_phrases)\n",
    "\n",
    "    print(f\"Found forbidden phrases: {found_phrases}\")\n",
    "\n",
    "    return GuardrailFunctionOutput(\n",
    "        output_info={\n",
    "            \"reason\": \"Output contains forbidden phrases.\",\n",
    "            \"forbidden_phrases_found\": found_phrases,\n",
    "        },\n",
    "        tripwire_triggered=trip_triggered,\n",
    "    )\n",
    "\n",
    "test_agent = Agent(\n",
    "    name=\"Customer support agent\",\n",
    "    instructions=\"You are a customer support agent. You help customers with their questions.\",\n",
    "    output_guardrails=[forbidden_words_guardrail],\n",
    "    model=\"gpt-4o-mini\",\n",
    ")"
   ]
  },
  {
   "cell_type": "code",
   "execution_count": 11,
   "id": "99f7f2f1",
   "metadata": {},
   "outputs": [
    {
     "name": "stdout",
     "output_type": "stream",
     "text": [
      "Checking output for forbidden phrases: Fart! If you have any questions or need assistance, feel free to ask!\n",
      "Found forbidden phrases: ['fart']\n",
      "The agent said a bad word, he is fired.\n"
     ]
    }
   ],
   "source": [
    "try:\n",
    "    await Runner.run(test_agent, \"Say the word fart\")\n",
    "    print(\"Guardrail didn't trip - this is unexpected\")\n",
    "except OutputGuardrailTripwireTriggered:\n",
    "    print(\"The agent said a bad word, he is fired.\")"
   ]
  },
  {
   "cell_type": "code",
   "execution_count": 12,
   "id": "f6cea9a3",
   "metadata": {},
   "outputs": [
    {
     "name": "stdout",
     "output_type": "stream",
     "text": [
      "Checking output for forbidden phrases: Hello! How can I assist you today?\n",
      "Found forbidden phrases: []\n",
      "Guardrail didn't trip yay\n"
     ]
    }
   ],
   "source": [
    "try:\n",
    "    await Runner.run(test_agent, \"Hey wassup\")\n",
    "    print(\"Guardrail didn't trip yay\")\n",
    "except OutputGuardrailTripwireTriggered:\n",
    "    print(\"The agent said a bad word, he is fired.\")"
   ]
  }
 ],
 "metadata": {
  "kernelspec": {
   "display_name": "Python 3",
   "language": "python",
   "name": "python3"
  },
  "language_info": {
   "codemirror_mode": {
    "name": "ipython",
    "version": 3
   },
   "file_extension": ".py",
   "mimetype": "text/x-python",
   "name": "python",
   "nbconvert_exporter": "python",
   "pygments_lexer": "ipython3",
   "version": "3.12.8"
  }
 },
 "nbformat": 4,
 "nbformat_minor": 5
}
